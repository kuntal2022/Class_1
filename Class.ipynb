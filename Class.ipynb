{
 "cells": [
  {
   "cell_type": "markdown",
   "id": "f2e23676",
   "metadata": {},
   "source": [
    "# Q1. Explain Class and Object with respect to Object-Oriented Programming. Give a suitable example."
   ]
  },
  {
   "cell_type": "markdown",
   "id": "682f23e1",
   "metadata": {},
   "source": [
    "# Ans\n",
    "\n",
    "## Class:\n",
    "In python class is a inbuild key word that represents a blue print or skeleton of real world entity\n",
    "\n",
    "###### -- human has properties like color, height\n",
    "###### -- human has behaviour like eating, sleeping\n",
    "\n",
    "### > human = properties+ behaviour\n",
    "\n",
    "###### -- class property is called Attribute\n",
    "###### -- class Behaviour is called Method\n",
    "\n",
    "### > class = Attribute + Method\n",
    "\n",
    "# Objects:\n",
    "\n",
    "Any specific variable or instance which is having properties of a specfic class is called object for the specific class.\n",
    "\n",
    "#### example\n",
    "\n",
    "###### -- Human is Human in real life. \n",
    "###### -- Radha, Sita, Ram, Shyam are also human but these human are having name.\n",
    "\n",
    "### In simple Word\n",
    "###### Human: it is a class, \n",
    "###### Radha, Sita, Ram, Shyam are objects of the class Human\n",
    "\n",
    "\n",
    "# instantitaion\n",
    "\n",
    "Creating an object from a class called instantitaion\n"
   ]
  },
  {
   "cell_type": "markdown",
   "id": "55186cb8",
   "metadata": {},
   "source": [
    "# Example Of Simple Class"
   ]
  },
  {
   "cell_type": "code",
   "execution_count": 1,
   "id": "39421707",
   "metadata": {},
   "outputs": [],
   "source": [
    "class Phone: # creating a class phone\n",
    "    def make_call(self): # defining a method or behaviour of a class\n",
    "        return(\"I am Calling\")\n",
    "    def take_picture(self):  # defining aother method or behaviour of a class\n",
    "        return(\"I am taking Picture\") # return the value if we don't return but print it will by default return None"
   ]
  },
  {
   "cell_type": "code",
   "execution_count": 2,
   "id": "55ba56a6",
   "metadata": {},
   "outputs": [
    {
     "name": "stdout",
     "output_type": "stream",
     "text": [
      "<class '__main__.Phone'>\n",
      "\n",
      "<class '__main__.Phone'>\n",
      "\n",
      "I am Calling\n",
      "\n",
      "I am taking Picture\n"
     ]
    }
   ],
   "source": [
    "print(Phone) # print type of Phone\n",
    "print()\n",
    "p1=Phone() # instantitaion\n",
    "print(type(p1)) # type of p1\n",
    "print()\n",
    "print(p1.make_call())\n",
    "print()\n",
    "print(p1.take_picture())"
   ]
  },
  {
   "cell_type": "markdown",
   "id": "7b9f482e",
   "metadata": {},
   "source": [
    "# Q2. Name the four pillars of OOPs."
   ]
  },
  {
   "cell_type": "markdown",
   "id": "e7156b26",
   "metadata": {},
   "source": [
    "# ANS There are 4 main pillars of OOPs Those are \n",
    "\n",
    "##### Abstraction\n",
    "#### Encapsulation\n",
    "#### Inheritance\n",
    "#### Polymorphism"
   ]
  },
  {
   "cell_type": "markdown",
   "id": "e904d833",
   "metadata": {},
   "source": [
    "# Q3. Explain why the __init__() function is used. Give a suitable example."
   ]
  },
  {
   "cell_type": "markdown",
   "id": "73f1e789",
   "metadata": {},
   "source": [
    "# ANS\n",
    "\n",
    "\n",
    "\n",
    "__init__() function also called constructors. This function is always executed when the class is being initiated.\n",
    "\n",
    "we can use the __init__() function to assign values to object properties"
   ]
  },
  {
   "cell_type": "code",
   "execution_count": 3,
   "id": "bf6f64de",
   "metadata": {},
   "outputs": [
    {
     "name": "stdout",
     "output_type": "stream",
     "text": [
      "Name: My name is Banyan\n",
      "\n",
      "Height: My Height is 100ft+\n",
      "\n",
      "Country: I also stay in India\n",
      "\n",
      "Flower_color: My Flower color is Green_red\n",
      "\n",
      "Are you Medicinal Plant ?  Yes I am Medicinal Plant\n"
     ]
    }
   ],
   "source": [
    "# example with constructor \n",
    "\n",
    "class Tree_1:\n",
    "    def __init__ (self, name, height, country, flower_color, medicinal):\n",
    "        self.name=name\n",
    "        self.height=height\n",
    "        self.country=country\n",
    "        self.flower_color=flower_color\n",
    "        self.medicinal=medicinal\n",
    "    def show_details(self):\n",
    "        print(\"Name: My name is\", self.name)\n",
    "        print()\n",
    "        print(\"Height: My Height is\", self.height)\n",
    "        print()\n",
    "        print(\"Country: I also stay in\", self.country)\n",
    "        print()\n",
    "        print(\"Flower_color: My Flower color is\", self.flower_color)\n",
    "        print()\n",
    "        print(\"Are you Medicinal Plant ? \",self.medicinal,)\n",
    "        \n",
    "\n",
    "# make and object        \n",
    "t1=Tree_1(\"Banyan\",\"100ft+\",\"India\", \"Green_red\", \"Yes I am Medicinal Plant\")\n",
    "#show details together\n",
    "t1.show_details()\n",
    "\n",
    "\n"
   ]
  },
  {
   "cell_type": "code",
   "execution_count": 4,
   "id": "aaef43a5",
   "metadata": {},
   "outputs": [
    {
     "name": "stdout",
     "output_type": "stream",
     "text": [
      "Banana\n"
     ]
    },
    {
     "data": {
      "text/plain": [
       "'Aisan Countries'"
      ]
     },
     "execution_count": 4,
     "metadata": {},
     "output_type": "execute_result"
    }
   ],
   "source": [
    "#create and object of Tree_1\n",
    "t2=Tree_1(\"Banana\", \"8ft\", \"Aisan Countries\", \"Pink\", \"Yes\")\n",
    "\n",
    "\n",
    "\n",
    "# print only name and country individually\n",
    "print(t2.name)\n",
    "\n",
    "t2.country"
   ]
  },
  {
   "cell_type": "markdown",
   "id": "6ee30b43",
   "metadata": {},
   "source": [
    "# Q4. Why self is used in OOPs?\n",
    "\n",
    "## Ans\n",
    "\n",
    "\n",
    "\n",
    "\n",
    "### self\n",
    "\n",
    "###### Self is an argument which is important! and it is mentioned as first argument, while defining somthing within class\n",
    "\n",
    "###### The method  will see self as it's won argument and pass the same\n",
    "\n",
    "\n",
    "# Example With Self"
   ]
  },
  {
   "cell_type": "code",
   "execution_count": 5,
   "id": "bc635add",
   "metadata": {},
   "outputs": [
    {
     "name": "stdout",
     "output_type": "stream",
     "text": [
      "100000\n",
      "This The cost of the New Object p2\n",
      "\n",
      "Blue\n",
      "This The color of the New Object p2\n",
      "\n"
     ]
    }
   ],
   "source": [
    "class Phone1:\n",
    "    def color(self, color): # giving the attribue 1\n",
    "        self.color=color  # telling class that it is your attribute\n",
    "    def cost(self, cost):# giving the attribue 2\n",
    "        self.cost= cost  # telling class that it is your attribute\n",
    "    def show_cost(self):# defing a function show its color\n",
    "        return self.cost # telling class if some one ask show your attribute \n",
    "    def show_color(self):\n",
    "        return self.color\n",
    "    \n",
    "p2=Phone1() # creating the object \n",
    "p2.color(\"Blue\") # giving specfic property to the object\n",
    "p2.cost(100000)\n",
    "\n",
    "#printing the cost\n",
    "print(p2.show_cost())\n",
    "print(\"This The cost of the New Object p2\\n\")\n",
    "\n",
    "\n",
    "#printiting the color\n",
    "print(p2.show_color())\n",
    "print(\"This The color of the New Object p2\\n\")\n"
   ]
  },
  {
   "cell_type": "markdown",
   "id": "4fc646b3",
   "metadata": {},
   "source": [
    "# Q5. What is inheritance? Give an example for each type of inheritance."
   ]
  },
  {
   "cell_type": "markdown",
   "id": "a43b7801",
   "metadata": {},
   "source": [
    "# Ans:\n",
    "\n",
    "#### Inheritance is defined as the mechanism of inheriting the properties of the base class to the child class. \n",
    "#### It also called as sub class\n",
    "#### Apart from the base class it may have other properties\n",
    "#### We may change the properties of a sub class from base class without changing the super class's property\n",
    "#### If super class property changes that will lead to change the child class property too.\n"
   ]
  },
  {
   "cell_type": "markdown",
   "id": "f57b4c11",
   "metadata": {},
   "source": [
    "# Types of Inheritance class\n",
    "1. Single Inheritance/ single level Inheritance"
   ]
  },
  {
   "cell_type": "code",
   "execution_count": 1,
   "id": "d257e00a",
   "metadata": {},
   "outputs": [
    {
     "name": "stdout",
     "output_type": "stream",
     "text": [
      "I am Test Box1\n",
      "I am Box2\n"
     ]
    }
   ],
   "source": [
    "# create a class Box1\n",
    "class Box1:\n",
    "    def test_class1(self):\n",
    "        return (\"I am Test Box1\")\n",
    "\n",
    "    \n",
    "# create class Box2 as a sub class of Box2    \n",
    "class Box2(Box1):\n",
    "    def test_class2(self): # add another feature to box2\n",
    "        return(\"I am Box2\")\n",
    "        \n",
    "        \n",
    "obj_box=Box2() # create object of Box2\n",
    "print(obj_box.test_class1()) # see the super class function through Box2\n",
    "print(obj_box.test_class2()) # see the sub class extra function"
   ]
  },
  {
   "cell_type": "markdown",
   "id": "63f49400",
   "metadata": {},
   "source": [
    "# 2. Multi level Inheritance"
   ]
  },
  {
   "cell_type": "code",
   "execution_count": 2,
   "id": "2905ab92",
   "metadata": {},
   "outputs": [
    {
     "name": "stdout",
     "output_type": "stream",
     "text": [
      "I can Read Well\n",
      "I Can Sing Well\n",
      "I can Code Well\n"
     ]
    }
   ],
   "source": [
    "class Grand_father : # class 1\n",
    "    def show_grand_father_talent(self):\n",
    "        return \"I Can Sing Well\"\n",
    "\n",
    "class Father(Grand_father):# class 2 has property of class 1 and its won \n",
    "    def show_father_talent(self):\n",
    "        return \"I can Read Well\"\n",
    "    \n",
    "class Son(Father): # class 3 has properties of class 1, class 2 and its won\n",
    "    def show_son_talent(self):\n",
    "        return \"I can Code Well\"\n",
    "    \n",
    "    \n",
    "    \n",
    "son1= Son()\n",
    "print(son1.show_father_talent())\n",
    "print(son1.show_grand_father_talent())\n",
    "print(son1.show_son_talent())\n",
    "\n",
    "    "
   ]
  },
  {
   "cell_type": "markdown",
   "id": "9b4aba29",
   "metadata": {},
   "source": [
    "# 3. Hybrid Inheritance"
   ]
  },
  {
   "cell_type": "code",
   "execution_count": 3,
   "id": "db745996",
   "metadata": {},
   "outputs": [
    {
     "name": "stdout",
     "output_type": "stream",
     "text": [
      "Eye Color Is Blue : I am Mom Eye\n",
      "Skin Color Is white : I am Dad skin\n"
     ]
    }
   ],
   "source": [
    "class Mom: # Create mom\n",
    "    def eye_color(self):\n",
    "        return (\"Eye Color Is Blue : I am Mom Eye\")\n",
    "    \n",
    "class Dad: # create dad\n",
    "    def skin_color(self):\n",
    "        return \"Skin Color Is white : I am Dad skin\"\n",
    "    \n",
    "class Baby(Mom, Dad): # create baby\n",
    "    pass\n",
    "\n",
    "baby1= Baby()#create baby object\n",
    "\n",
    "print(baby1.eye_color())# seemom gene\n",
    "print(baby1.skin_color()) # see dad gene\n"
   ]
  },
  {
   "cell_type": "code",
   "execution_count": null,
   "id": "d36d8442",
   "metadata": {},
   "outputs": [],
   "source": []
  }
 ],
 "metadata": {
  "kernelspec": {
   "display_name": "Python 3 (ipykernel)",
   "language": "python",
   "name": "python3"
  },
  "language_info": {
   "codemirror_mode": {
    "name": "ipython",
    "version": 3
   },
   "file_extension": ".py",
   "mimetype": "text/x-python",
   "name": "python",
   "nbconvert_exporter": "python",
   "pygments_lexer": "ipython3",
   "version": "3.9.13"
  }
 },
 "nbformat": 4,
 "nbformat_minor": 5
}
